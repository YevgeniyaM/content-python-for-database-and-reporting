{
 "cells": [
  {
   "cell_type": "markdown",
   "metadata": {},
   "source": [
    "# Setting Up a PostgreSQL Database for Sterling Vet Services\n",
    "\n",
    "You are a freelance developer who has accepted a job to develop a database for a veterinarian company.  They have given you a small CSV file and asked you to populate the database with a single table holding the data in the file. There are notes attached asking for you to add a weight for Petra of 12.5lbs  and to add a new pet Esmerelda who is a 2.5 yr old female Angus cow that weighs 1250 lbs, has no health issues, is vaccinated and is owned by the Garcia Ranch. "
   ]
  },
  {
   "cell_type": "markdown",
   "metadata": {},
   "source": [
    "### Setup PostgreSQL for cloud_user Access\n",
    "\n",
    "Create a cloud_user database and a cloud_user user with a password.  Grant all priveleges to database cloud_user by user cloud_user.\n",
    "\n",
    "#### Start psql\n",
    "- `sudo -u postgres psql`\n",
    "\n",
    "#### Create Database\n",
    "- `CREATE DATABASE cloud_user;`\n",
    "\n",
    "#### Create User\n",
    "- `CREATE USER cloud_user WITH ENCRYPTED PASSWORD 'cloud_user';`\n",
    "\n",
    "#### Grant Access to Database by User\n",
    "- `GRANT ALL PRIVILEGES ON DATABASE cloud_user TO cloud_user;`\n",
    "\n",
    "#### Leave psql\n",
    "- `\\q`\n"
   ]
  },
  {
   "cell_type": "markdown",
   "metadata": {},
   "source": [
    "### Imports and database connection string.  The PostgreSQL standard port is 5432."
   ]
  },
  {
   "cell_type": "code",
   "execution_count": 2,
   "metadata": {},
   "outputs": [],
   "source": [
    "import pandas as pd\n",
    "import psycopg2\n",
    "\n",
    "CONNECT_DB = \"host=localhost port=5432 dbname=cloud_user user=cloud_user password=cloud_user\""
   ]
  },
  {
   "cell_type": "markdown",
   "metadata": {},
   "source": [
    "### Create Table\n",
    "\n",
    "Create a table with columns matching the vet.csv file."
   ]
  },
  {
   "cell_type": "code",
   "execution_count": 3,
   "metadata": {},
   "outputs": [
    {
     "name": "stdout",
     "output_type": "stream",
     "text": [
      "PostgreSQL connection is closed\n",
      "Records: None\n"
     ]
    }
   ],
   "source": [
    "create_table_query = '''CREATE TABLE customers (\n",
    "    id SERIAL PRIMARY KEY,\n",
    "    name varchar (25),\n",
    "    owner varchar (25),\n",
    "    type varchar (25),\n",
    "    breed varchar (25),\n",
    "    color varchar (25),\n",
    "    age smallint,\n",
    "    weight float4,\n",
    "    gender varchar (1),\n",
    "    health_issues boolean,\n",
    "    indoor_outdoor varchar(10),\n",
    "    vaccinated boolean\n",
    "); '''\n",
    "\n",
    "try:\n",
    "    #make connection to db\n",
    "    cxn = psycopg2.connect(CONNECT_DB)\n",
    "    \n",
    "    #create a cursor to db\n",
    "    cur = cxn.cursor()\n",
    "    \n",
    "    #send sql query to request\n",
    "    cur.execute(create_table_query)\n",
    "    records = cxn.commit()\n",
    "    \n",
    "except (Exception, psycopg2.Error) as error:\n",
    "     print (\"Error while connecting to PostgreSQL\", error)\n",
    "\n",
    "finally:\n",
    "    #closing db connection\n",
    "    if(cxn):\n",
    "        cur.close()\n",
    "        cxn.close()\n",
    "        print(\"PostgreSQL connection is closed\")\n",
    "\n",
    "    print(f'Records: {records}')"
   ]
  },
  {
   "cell_type": "markdown",
   "metadata": {},
   "source": [
    "### Add the Data to Table\n",
    "\n",
    "Use a try..except..finally block to load the data from vet.csv into the table just created."
   ]
  },
  {
   "cell_type": "code",
   "execution_count": 6,
   "metadata": {},
   "outputs": [
    {
     "name": "stdout",
     "output_type": "stream",
     "text": [
      "PostgreSQL connection is closed\n",
      "customer table populated\n"
     ]
    }
   ],
   "source": [
    "try:\n",
    "    #make connection to db\n",
    "    cxn = psycopg2.connect(CONNECT_DB)\n",
    "    \n",
    "    #create a cursor to db\n",
    "    cur = cxn.cursor()\n",
    "    \n",
    "    #read file, copy to db\n",
    "    with open('./vet.csv', 'r') as f:\n",
    "        #skip first row, header row\n",
    "        next(f)\n",
    "        cur.copy_from(f, 'customers', sep=',')\n",
    "        cxn.commit()\n",
    "    \n",
    "except (Exception, psycopg2.Error) as error:\n",
    "     print (\"Error while connecting to PostgreSQL\", error)\n",
    "\n",
    "finally:\n",
    "    #closing db connection\n",
    "    if(cxn):\n",
    "        cur.close()\n",
    "        cxn.close()\n",
    "        print(\"PostgreSQL connection is closed\")\n",
    "        print('customer table populated')"
   ]
  },
  {
   "cell_type": "markdown",
   "metadata": {},
   "source": [
    "### Selecting Data From a Server\n",
    "\n",
    "Create a function to execute a SQL statement to fetch records from the database.  Use try..except..finally and .fetchall().  The user should use LIMIT or TOP() to limit their results.\n"
   ]
  },
  {
   "cell_type": "code",
   "execution_count": 8,
   "metadata": {},
   "outputs": [],
   "source": [
    "def db_server_fetch(sql_query):\n",
    "    try:\n",
    "    #make connection to db\n",
    "        cxn = psycopg2.connect(CONNECT_DB)\n",
    "    \n",
    "        #create a cursor to db\n",
    "        cur = cxn.cursor()\n",
    "    \n",
    "        #send sql_query to request\n",
    "        cur.execute(sql_query)\n",
    "        records = cur.fetchall()\n",
    "    \n",
    "    except (Exception, psycopg2.Error) as error:\n",
    "         print (\"Error while connecting to PostgreSQL\", error)\n",
    "\n",
    "    finally:\n",
    "        #closing db connection\n",
    "        if(cxn):\n",
    "            cur.close()\n",
    "            cxn.close()\n",
    "            print(\"PostgreSQL connection is closed\")\n",
    "        return records"
   ]
  },
  {
   "cell_type": "markdown",
   "metadata": {},
   "source": [
    "Get all data from the database."
   ]
  },
  {
   "cell_type": "code",
   "execution_count": 9,
   "metadata": {},
   "outputs": [
    {
     "name": "stdout",
     "output_type": "stream",
     "text": [
      "PostgreSQL connection is closed\n",
      "[(1, 'Dexter', 'Johnsons', 'dog', 'shiba', 'red', 2, 35.0, 'm', False, 'both', True), (2, 'Alfred', 'Johnsons', 'cat', 'mix', 'tuxedo', 4, 12.0, 'm', True, 'indoor', True), (3, 'Petra', 'Smith', 'cat', 'ragdoll', 'calico', 6, 0.0, 'f', False, 'both', True), (4, 'Ava', 'Smith', 'dog', 'mix', 'blk_wht', 12, 32.0, 'f', True, 'both', False), (5, 'Schroder', 'Brown', 'cat', 'mix', 'orange', 13, 15.0, 'm', False, 'indoor', True), (6, 'Blackbeard', 'Brown', 'bird', 'parrot', 'multi', 5, 3.0, 'f', False, 'indoor', False)]\n"
     ]
    }
   ],
   "source": [
    "select_query = '''SELECT * FROM customers;'''\n",
    "\n",
    "records = db_server_fetch(select_query)\n",
    "print(records)"
   ]
  },
  {
   "cell_type": "markdown",
   "metadata": {},
   "source": [
    "### Change Data in Database\n",
    "\n",
    "Create a function to execute a SQL statement to update records in the database.  Use try..except..finally. \n"
   ]
  },
  {
   "cell_type": "code",
   "execution_count": 12,
   "metadata": {},
   "outputs": [],
   "source": [
    "def db_server_change(sql_query):\n",
    "    try:\n",
    "    #make connection to db\n",
    "        cxn = psycopg2.connect(CONNECT_DB)\n",
    "    \n",
    "        #create a cursor to db\n",
    "        cur = cxn.cursor()\n",
    "    \n",
    "        #send sql_query to request\n",
    "        cur.execute(sql_query)\n",
    "        records = cxn.commit()\n",
    "    \n",
    "    except (Exception, psycopg2.Error) as error:\n",
    "         print (\"Error while connecting to PostgreSQL\", error)\n",
    "\n",
    "    finally:\n",
    "        #closing db connection\n",
    "        if(cxn):\n",
    "            cur.close()\n",
    "            cxn.close()\n",
    "            print(\"PostgreSQL connection is closed\")\n",
    "        return records"
   ]
  },
  {
   "cell_type": "markdown",
   "metadata": {},
   "source": [
    "Add a new record with the following data:\n",
    "Esmerelda is a 2.5 yr old female Angus cow that weighs 1250 lbs, has no health issues, and is vaccinated and owned by the Garcia Ranch."
   ]
  },
  {
   "cell_type": "code",
   "execution_count": 13,
   "metadata": {},
   "outputs": [
    {
     "name": "stdout",
     "output_type": "stream",
     "text": [
      "PostgreSQL connection is closed\n"
     ]
    }
   ],
   "source": [
    "add_data = '''INSERT INTO customers\n",
    "    (id, name, owner, type, breed, color, age, weight, gender, health_issues, indoor_outdoor, vaccinated)\n",
    "    VALUES\n",
    "    (7, 'Esmerelda', 'Garcia Ranch', 'Cattle', 'Angus', 'black', 2.5, 1250, 'f', false, 'outdoor', true);'''\n",
    "\n",
    "db_server_change(add_data)"
   ]
  },
  {
   "cell_type": "markdown",
   "metadata": {},
   "source": [
    "Check Record Added"
   ]
  },
  {
   "cell_type": "code",
   "execution_count": 14,
   "metadata": {},
   "outputs": [
    {
     "name": "stdout",
     "output_type": "stream",
     "text": [
      "PostgreSQL connection is closed\n",
      "[(7, 'Esmerelda', 'Garcia Ranch', 'Cattle', 'Angus', 'black', 3, 1250.0, 'f', False, 'outdoor', True)]\n"
     ]
    }
   ],
   "source": [
    "select_query = '''SELECT * FROM customers WHERE name = 'Esmerelda';'''\n",
    "\n",
    "records = db_server_fetch(select_query)\n",
    "print(records)"
   ]
  },
  {
   "cell_type": "markdown",
   "metadata": {},
   "source": [
    "#### Update Petra's weight.\n",
    "\n",
    "Make Petra's weight 12.5."
   ]
  },
  {
   "cell_type": "code",
   "execution_count": 15,
   "metadata": {},
   "outputs": [
    {
     "name": "stdout",
     "output_type": "stream",
     "text": [
      "PostgreSQL connection is closed\n"
     ]
    }
   ],
   "source": [
    "update_data = '''UPDATE customers SET weight = 12.5 WHERE name='Petra';'''\n",
    "db_server_change(update_data)"
   ]
  },
  {
   "cell_type": "markdown",
   "metadata": {},
   "source": [
    "Check Record"
   ]
  },
  {
   "cell_type": "code",
   "execution_count": 16,
   "metadata": {},
   "outputs": [
    {
     "name": "stdout",
     "output_type": "stream",
     "text": [
      "PostgreSQL connection is closed\n",
      "[(3, 'Petra', 'Smith', 'cat', 'ragdoll', 'calico', 6, 12.5, 'f', False, 'both', True)]\n"
     ]
    }
   ],
   "source": [
    "select_query = '''SELECT * FROM customers WHERE name = 'Petra';'''\n",
    "\n",
    "records = db_server_fetch(select_query)\n",
    "print(records)"
   ]
  },
  {
   "cell_type": "code",
   "execution_count": null,
   "metadata": {},
   "outputs": [],
   "source": []
  }
 ],
 "metadata": {
  "kernelspec": {
   "display_name": "Python 3",
   "language": "python",
   "name": "python3"
  },
  "language_info": {
   "codemirror_mode": {
    "name": "ipython",
    "version": 3
   },
   "file_extension": ".py",
   "mimetype": "text/x-python",
   "name": "python",
   "nbconvert_exporter": "python",
   "pygments_lexer": "ipython3",
   "version": "3.7.3"
  }
 },
 "nbformat": 4,
 "nbformat_minor": 2
}
