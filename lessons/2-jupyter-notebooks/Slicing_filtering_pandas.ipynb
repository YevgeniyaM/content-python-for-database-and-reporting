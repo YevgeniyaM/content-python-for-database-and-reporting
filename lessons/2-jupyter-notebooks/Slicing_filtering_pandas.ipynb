{
 "cells": [
  {
   "cell_type": "markdown",
   "metadata": {},
   "source": [
    "# Panda slicing and Filtering"
   ]
  },
  {
   "cell_type": "code",
   "execution_count": 1,
   "metadata": {},
   "outputs": [],
   "source": [
    "import pandas as pd "
   ]
  },
  {
   "cell_type": "code",
   "execution_count": 2,
   "metadata": {},
   "outputs": [],
   "source": [
    "data = [\n",
    "    (\"Dexter\",\"Johnsons\",\"dog\",\"shiba inu\",\"red sesame\",1.5,35,\"m\",False,\"both\",True),\n",
    "    (\"Alfred\",\"Johnsons\",\"cat\",\"mix\",\"tuxedo\",4,12,\"m\",True,\"indoor\",True),\n",
    "    (\"Petra\",\"Smith\",\"cat\",\"ragdoll\",\"calico\",None,10,\"f\",False,\"both\",True),\n",
    "    (\"Ava\",\"Smith\",\"dog\",\"mix\",\"blk/wht\",12,32,\"f\",True,\"both\",False),\n",
    "    (\"Schroder\",\"Brown\",\"cat\",\"mix\",\"orange\",13,15,\"m\",False,\"indoor\",True),\n",
    "    (\"Blackbeard\",\"Brown\",\"bird\",\"parrot\",\"multi\",5,3,\"f\",False,\"indoor\",),\n",
    "]\n",
    "\n",
    "labels = [\"name\",\"owner\",\"type\",\"breed\",\"color\",\"age\",\"weight\",\"gender\",\"health issues\",\"indoor/outboor\",\"vaccinated\"]\n",
    "\n",
    "vet_records = pd.DataFrame(data, columns = labels)"
   ]
  },
  {
   "cell_type": "code",
   "execution_count": 4,
   "metadata": {},
   "outputs": [
    {
     "data": {
      "text/html": [
       "<div>\n",
       "<style scoped>\n",
       "    .dataframe tbody tr th:only-of-type {\n",
       "        vertical-align: middle;\n",
       "    }\n",
       "\n",
       "    .dataframe tbody tr th {\n",
       "        vertical-align: top;\n",
       "    }\n",
       "\n",
       "    .dataframe thead th {\n",
       "        text-align: right;\n",
       "    }\n",
       "</style>\n",
       "<table border=\"1\" class=\"dataframe\">\n",
       "  <thead>\n",
       "    <tr style=\"text-align: right;\">\n",
       "      <th></th>\n",
       "      <th>name</th>\n",
       "      <th>owner</th>\n",
       "      <th>type</th>\n",
       "      <th>breed</th>\n",
       "      <th>color</th>\n",
       "      <th>age</th>\n",
       "      <th>weight</th>\n",
       "      <th>gender</th>\n",
       "      <th>health issues</th>\n",
       "      <th>indoor/outboor</th>\n",
       "      <th>vaccinated</th>\n",
       "    </tr>\n",
       "  </thead>\n",
       "  <tbody>\n",
       "    <tr>\n",
       "      <th>0</th>\n",
       "      <td>Dexter</td>\n",
       "      <td>Johnsons</td>\n",
       "      <td>dog</td>\n",
       "      <td>shiba inu</td>\n",
       "      <td>red sesame</td>\n",
       "      <td>1.5</td>\n",
       "      <td>35</td>\n",
       "      <td>m</td>\n",
       "      <td>False</td>\n",
       "      <td>both</td>\n",
       "      <td>True</td>\n",
       "    </tr>\n",
       "    <tr>\n",
       "      <th>1</th>\n",
       "      <td>Alfred</td>\n",
       "      <td>Johnsons</td>\n",
       "      <td>cat</td>\n",
       "      <td>mix</td>\n",
       "      <td>tuxedo</td>\n",
       "      <td>4.0</td>\n",
       "      <td>12</td>\n",
       "      <td>m</td>\n",
       "      <td>True</td>\n",
       "      <td>indoor</td>\n",
       "      <td>True</td>\n",
       "    </tr>\n",
       "    <tr>\n",
       "      <th>2</th>\n",
       "      <td>Petra</td>\n",
       "      <td>Smith</td>\n",
       "      <td>cat</td>\n",
       "      <td>ragdoll</td>\n",
       "      <td>calico</td>\n",
       "      <td>NaN</td>\n",
       "      <td>10</td>\n",
       "      <td>f</td>\n",
       "      <td>False</td>\n",
       "      <td>both</td>\n",
       "      <td>True</td>\n",
       "    </tr>\n",
       "    <tr>\n",
       "      <th>3</th>\n",
       "      <td>Ava</td>\n",
       "      <td>Smith</td>\n",
       "      <td>dog</td>\n",
       "      <td>mix</td>\n",
       "      <td>blk/wht</td>\n",
       "      <td>12.0</td>\n",
       "      <td>32</td>\n",
       "      <td>f</td>\n",
       "      <td>True</td>\n",
       "      <td>both</td>\n",
       "      <td>False</td>\n",
       "    </tr>\n",
       "    <tr>\n",
       "      <th>4</th>\n",
       "      <td>Schroder</td>\n",
       "      <td>Brown</td>\n",
       "      <td>cat</td>\n",
       "      <td>mix</td>\n",
       "      <td>orange</td>\n",
       "      <td>13.0</td>\n",
       "      <td>15</td>\n",
       "      <td>m</td>\n",
       "      <td>False</td>\n",
       "      <td>indoor</td>\n",
       "      <td>True</td>\n",
       "    </tr>\n",
       "    <tr>\n",
       "      <th>5</th>\n",
       "      <td>Blackbeard</td>\n",
       "      <td>Brown</td>\n",
       "      <td>bird</td>\n",
       "      <td>parrot</td>\n",
       "      <td>multi</td>\n",
       "      <td>5.0</td>\n",
       "      <td>3</td>\n",
       "      <td>f</td>\n",
       "      <td>False</td>\n",
       "      <td>indoor</td>\n",
       "      <td>None</td>\n",
       "    </tr>\n",
       "  </tbody>\n",
       "</table>\n",
       "</div>"
      ],
      "text/plain": [
       "         name     owner  type      breed       color   age  weight gender  \\\n",
       "0      Dexter  Johnsons   dog  shiba inu  red sesame   1.5      35      m   \n",
       "1      Alfred  Johnsons   cat        mix      tuxedo   4.0      12      m   \n",
       "2       Petra     Smith   cat    ragdoll      calico   NaN      10      f   \n",
       "3         Ava     Smith   dog        mix     blk/wht  12.0      32      f   \n",
       "4    Schroder     Brown   cat        mix      orange  13.0      15      m   \n",
       "5  Blackbeard     Brown  bird     parrot       multi   5.0       3      f   \n",
       "\n",
       "   health issues indoor/outboor vaccinated  \n",
       "0          False           both       True  \n",
       "1           True         indoor       True  \n",
       "2          False           both       True  \n",
       "3           True           both      False  \n",
       "4          False         indoor       True  \n",
       "5          False         indoor       None  "
      ]
     },
     "execution_count": 4,
     "metadata": {},
     "output_type": "execute_result"
    }
   ],
   "source": [
    "vet_records"
   ]
  },
  {
   "cell_type": "code",
   "execution_count": 5,
   "metadata": {},
   "outputs": [
    {
     "data": {
      "text/plain": [
       "6"
      ]
     },
     "execution_count": 5,
     "metadata": {},
     "output_type": "execute_result"
    }
   ],
   "source": [
    "vet_records.type.count()"
   ]
  },
  {
   "cell_type": "code",
   "execution_count": 6,
   "metadata": {},
   "outputs": [
    {
     "data": {
      "text/plain": [
       "0     dog\n",
       "1     cat\n",
       "2     cat\n",
       "3     dog\n",
       "4     cat\n",
       "5    bird\n",
       "Name: type, dtype: object"
      ]
     },
     "execution_count": 6,
     "metadata": {},
     "output_type": "execute_result"
    }
   ],
   "source": [
    "vet_records['type']"
   ]
  },
  {
   "cell_type": "code",
   "execution_count": 7,
   "metadata": {},
   "outputs": [
    {
     "data": {
      "text/html": [
       "<div>\n",
       "<style scoped>\n",
       "    .dataframe tbody tr th:only-of-type {\n",
       "        vertical-align: middle;\n",
       "    }\n",
       "\n",
       "    .dataframe tbody tr th {\n",
       "        vertical-align: top;\n",
       "    }\n",
       "\n",
       "    .dataframe thead th {\n",
       "        text-align: right;\n",
       "    }\n",
       "</style>\n",
       "<table border=\"1\" class=\"dataframe\">\n",
       "  <thead>\n",
       "    <tr style=\"text-align: right;\">\n",
       "      <th></th>\n",
       "      <th>name</th>\n",
       "      <th>owner</th>\n",
       "      <th>breed</th>\n",
       "      <th>color</th>\n",
       "      <th>age</th>\n",
       "      <th>weight</th>\n",
       "      <th>gender</th>\n",
       "      <th>health issues</th>\n",
       "      <th>indoor/outboor</th>\n",
       "      <th>vaccinated</th>\n",
       "    </tr>\n",
       "    <tr>\n",
       "      <th>type</th>\n",
       "      <th></th>\n",
       "      <th></th>\n",
       "      <th></th>\n",
       "      <th></th>\n",
       "      <th></th>\n",
       "      <th></th>\n",
       "      <th></th>\n",
       "      <th></th>\n",
       "      <th></th>\n",
       "      <th></th>\n",
       "    </tr>\n",
       "  </thead>\n",
       "  <tbody>\n",
       "    <tr>\n",
       "      <th>bird</th>\n",
       "      <td>1</td>\n",
       "      <td>1</td>\n",
       "      <td>1</td>\n",
       "      <td>1</td>\n",
       "      <td>1</td>\n",
       "      <td>1</td>\n",
       "      <td>1</td>\n",
       "      <td>1</td>\n",
       "      <td>1</td>\n",
       "      <td>0</td>\n",
       "    </tr>\n",
       "    <tr>\n",
       "      <th>cat</th>\n",
       "      <td>3</td>\n",
       "      <td>3</td>\n",
       "      <td>3</td>\n",
       "      <td>3</td>\n",
       "      <td>2</td>\n",
       "      <td>3</td>\n",
       "      <td>3</td>\n",
       "      <td>3</td>\n",
       "      <td>3</td>\n",
       "      <td>3</td>\n",
       "    </tr>\n",
       "    <tr>\n",
       "      <th>dog</th>\n",
       "      <td>2</td>\n",
       "      <td>2</td>\n",
       "      <td>2</td>\n",
       "      <td>2</td>\n",
       "      <td>2</td>\n",
       "      <td>2</td>\n",
       "      <td>2</td>\n",
       "      <td>2</td>\n",
       "      <td>2</td>\n",
       "      <td>2</td>\n",
       "    </tr>\n",
       "  </tbody>\n",
       "</table>\n",
       "</div>"
      ],
      "text/plain": [
       "      name  owner  breed  color  age  weight  gender  health issues  \\\n",
       "type                                                                  \n",
       "bird     1      1      1      1    1       1       1              1   \n",
       "cat      3      3      3      3    2       3       3              3   \n",
       "dog      2      2      2      2    2       2       2              2   \n",
       "\n",
       "      indoor/outboor  vaccinated  \n",
       "type                              \n",
       "bird               1           0  \n",
       "cat                3           3  \n",
       "dog                2           2  "
      ]
     },
     "execution_count": 7,
     "metadata": {},
     "output_type": "execute_result"
    }
   ],
   "source": [
    "vet_records.groupby('type').count()"
   ]
  },
  {
   "cell_type": "code",
   "execution_count": 8,
   "metadata": {},
   "outputs": [
    {
     "data": {
      "text/plain": [
       "cat     3\n",
       "dog     2\n",
       "bird    1\n",
       "Name: type, dtype: int64"
      ]
     },
     "execution_count": 8,
     "metadata": {},
     "output_type": "execute_result"
    }
   ],
   "source": [
    "vet_records.type.value_counts()"
   ]
  },
  {
   "cell_type": "markdown",
   "metadata": {},
   "source": [
    "## Slicing (Filtering) Data"
   ]
  },
  {
   "cell_type": "code",
   "execution_count": 11,
   "metadata": {},
   "outputs": [],
   "source": [
    "weight = vet_records.weight[vet_records.type=='dog']"
   ]
  },
  {
   "cell_type": "code",
   "execution_count": 12,
   "metadata": {},
   "outputs": [
    {
     "data": {
      "text/plain": [
       "0    35\n",
       "3    32\n",
       "Name: weight, dtype: int64"
      ]
     },
     "execution_count": 12,
     "metadata": {},
     "output_type": "execute_result"
    }
   ],
   "source": [
    "weight"
   ]
  },
  {
   "cell_type": "markdown",
   "metadata": {},
   "source": [
    "### .loc and .iloc"
   ]
  },
  {
   "cell_type": "code",
   "execution_count": 14,
   "metadata": {},
   "outputs": [
    {
     "data": {
      "text/plain": [
       "name       Petra\n",
       "owner      Smith\n",
       "breed    ragdoll\n",
       "Name: 2, dtype: object"
      ]
     },
     "execution_count": 14,
     "metadata": {},
     "output_type": "execute_result"
    }
   ],
   "source": [
    "vet_records.loc[2, ['name', 'owner', 'breed']]"
   ]
  },
  {
   "cell_type": "code",
   "execution_count": 15,
   "metadata": {},
   "outputs": [
    {
     "data": {
      "text/html": [
       "<div>\n",
       "<style scoped>\n",
       "    .dataframe tbody tr th:only-of-type {\n",
       "        vertical-align: middle;\n",
       "    }\n",
       "\n",
       "    .dataframe tbody tr th {\n",
       "        vertical-align: top;\n",
       "    }\n",
       "\n",
       "    .dataframe thead th {\n",
       "        text-align: right;\n",
       "    }\n",
       "</style>\n",
       "<table border=\"1\" class=\"dataframe\">\n",
       "  <thead>\n",
       "    <tr style=\"text-align: right;\">\n",
       "      <th></th>\n",
       "      <th>name</th>\n",
       "      <th>owner</th>\n",
       "      <th>breed</th>\n",
       "    </tr>\n",
       "  </thead>\n",
       "  <tbody>\n",
       "    <tr>\n",
       "      <th>0</th>\n",
       "      <td>Dexter</td>\n",
       "      <td>Johnsons</td>\n",
       "      <td>shiba inu</td>\n",
       "    </tr>\n",
       "    <tr>\n",
       "      <th>1</th>\n",
       "      <td>Alfred</td>\n",
       "      <td>Johnsons</td>\n",
       "      <td>mix</td>\n",
       "    </tr>\n",
       "    <tr>\n",
       "      <th>2</th>\n",
       "      <td>Petra</td>\n",
       "      <td>Smith</td>\n",
       "      <td>ragdoll</td>\n",
       "    </tr>\n",
       "    <tr>\n",
       "      <th>3</th>\n",
       "      <td>Ava</td>\n",
       "      <td>Smith</td>\n",
       "      <td>mix</td>\n",
       "    </tr>\n",
       "    <tr>\n",
       "      <th>4</th>\n",
       "      <td>Schroder</td>\n",
       "      <td>Brown</td>\n",
       "      <td>mix</td>\n",
       "    </tr>\n",
       "    <tr>\n",
       "      <th>5</th>\n",
       "      <td>Blackbeard</td>\n",
       "      <td>Brown</td>\n",
       "      <td>parrot</td>\n",
       "    </tr>\n",
       "  </tbody>\n",
       "</table>\n",
       "</div>"
      ],
      "text/plain": [
       "         name     owner      breed\n",
       "0      Dexter  Johnsons  shiba inu\n",
       "1      Alfred  Johnsons        mix\n",
       "2       Petra     Smith    ragdoll\n",
       "3         Ava     Smith        mix\n",
       "4    Schroder     Brown        mix\n",
       "5  Blackbeard     Brown     parrot"
      ]
     },
     "execution_count": 15,
     "metadata": {},
     "output_type": "execute_result"
    }
   ],
   "source": [
    "vet_records.loc[:,['name', 'owner', 'breed']]"
   ]
  },
  {
   "cell_type": "code",
   "execution_count": 16,
   "metadata": {},
   "outputs": [
    {
     "data": {
      "text/plain": [
       "0        Dexter\n",
       "1        Alfred\n",
       "2         Petra\n",
       "3           Ava\n",
       "4      Schroder\n",
       "5    Blackbeard\n",
       "Name: name, dtype: object"
      ]
     },
     "execution_count": 16,
     "metadata": {},
     "output_type": "execute_result"
    }
   ],
   "source": [
    "vet_records.iloc[:, 0]"
   ]
  },
  {
   "cell_type": "code",
   "execution_count": 17,
   "metadata": {},
   "outputs": [
    {
     "data": {
      "text/plain": [
       "'Petra'"
      ]
     },
     "execution_count": 17,
     "metadata": {},
     "output_type": "execute_result"
    }
   ],
   "source": [
    "vet_records.iloc[2,0]"
   ]
  },
  {
   "cell_type": "code",
   "execution_count": 18,
   "metadata": {},
   "outputs": [
    {
     "data": {
      "text/html": [
       "<div>\n",
       "<style scoped>\n",
       "    .dataframe tbody tr th:only-of-type {\n",
       "        vertical-align: middle;\n",
       "    }\n",
       "\n",
       "    .dataframe tbody tr th {\n",
       "        vertical-align: top;\n",
       "    }\n",
       "\n",
       "    .dataframe thead th {\n",
       "        text-align: right;\n",
       "    }\n",
       "</style>\n",
       "<table border=\"1\" class=\"dataframe\">\n",
       "  <thead>\n",
       "    <tr style=\"text-align: right;\">\n",
       "      <th></th>\n",
       "      <th>color</th>\n",
       "      <th>age</th>\n",
       "    </tr>\n",
       "  </thead>\n",
       "  <tbody>\n",
       "    <tr>\n",
       "      <th>2</th>\n",
       "      <td>calico</td>\n",
       "      <td>NaN</td>\n",
       "    </tr>\n",
       "    <tr>\n",
       "      <th>3</th>\n",
       "      <td>blk/wht</td>\n",
       "      <td>12.0</td>\n",
       "    </tr>\n",
       "  </tbody>\n",
       "</table>\n",
       "</div>"
      ],
      "text/plain": [
       "     color   age\n",
       "2   calico   NaN\n",
       "3  blk/wht  12.0"
      ]
     },
     "execution_count": 18,
     "metadata": {},
     "output_type": "execute_result"
    }
   ],
   "source": [
    "vet_records.iloc[[2,3],[4,5]]"
   ]
  },
  {
   "cell_type": "code",
   "execution_count": 19,
   "metadata": {},
   "outputs": [
    {
     "data": {
      "text/plain": [
       "0     True\n",
       "1    False\n",
       "2    False\n",
       "3    False\n",
       "4    False\n",
       "5     True\n",
       "Name: name, dtype: bool"
      ]
     },
     "execution_count": 19,
     "metadata": {},
     "output_type": "execute_result"
    }
   ],
   "source": [
    "vet_records.name.isin(['Dexter', 'Blackbeard']) "
   ]
  },
  {
   "cell_type": "markdown",
   "metadata": {},
   "source": [
    "### ~ is logical NOT"
   ]
  },
  {
   "cell_type": "code",
   "execution_count": 21,
   "metadata": {},
   "outputs": [
    {
     "data": {
      "text/plain": [
       "0    False\n",
       "1     True\n",
       "2     True\n",
       "3     True\n",
       "4     True\n",
       "5    False\n",
       "Name: name, dtype: bool"
      ]
     },
     "execution_count": 21,
     "metadata": {},
     "output_type": "execute_result"
    }
   ],
   "source": [
    "~vet_records.name.isin(['Dexter', 'Blackbeard'])"
   ]
  },
  {
   "cell_type": "markdown",
   "metadata": {},
   "source": [
    "## Boolean Masks"
   ]
  },
  {
   "cell_type": "code",
   "execution_count": 28,
   "metadata": {},
   "outputs": [],
   "source": [
    "mask = vet_records.gender=='m'"
   ]
  },
  {
   "cell_type": "code",
   "execution_count": 29,
   "metadata": {},
   "outputs": [
    {
     "data": {
      "text/html": [
       "<div>\n",
       "<style scoped>\n",
       "    .dataframe tbody tr th:only-of-type {\n",
       "        vertical-align: middle;\n",
       "    }\n",
       "\n",
       "    .dataframe tbody tr th {\n",
       "        vertical-align: top;\n",
       "    }\n",
       "\n",
       "    .dataframe thead th {\n",
       "        text-align: right;\n",
       "    }\n",
       "</style>\n",
       "<table border=\"1\" class=\"dataframe\">\n",
       "  <thead>\n",
       "    <tr style=\"text-align: right;\">\n",
       "      <th></th>\n",
       "      <th>name</th>\n",
       "      <th>owner</th>\n",
       "      <th>type</th>\n",
       "      <th>breed</th>\n",
       "      <th>color</th>\n",
       "      <th>age</th>\n",
       "      <th>weight</th>\n",
       "      <th>gender</th>\n",
       "      <th>health issues</th>\n",
       "      <th>indoor/outboor</th>\n",
       "      <th>vaccinated</th>\n",
       "    </tr>\n",
       "  </thead>\n",
       "  <tbody>\n",
       "    <tr>\n",
       "      <th>0</th>\n",
       "      <td>Dexter</td>\n",
       "      <td>Johnsons</td>\n",
       "      <td>dog</td>\n",
       "      <td>shiba inu</td>\n",
       "      <td>red sesame</td>\n",
       "      <td>1.5</td>\n",
       "      <td>35</td>\n",
       "      <td>m</td>\n",
       "      <td>False</td>\n",
       "      <td>both</td>\n",
       "      <td>True</td>\n",
       "    </tr>\n",
       "    <tr>\n",
       "      <th>1</th>\n",
       "      <td>Alfred</td>\n",
       "      <td>Johnsons</td>\n",
       "      <td>cat</td>\n",
       "      <td>mix</td>\n",
       "      <td>tuxedo</td>\n",
       "      <td>4.0</td>\n",
       "      <td>12</td>\n",
       "      <td>m</td>\n",
       "      <td>True</td>\n",
       "      <td>indoor</td>\n",
       "      <td>True</td>\n",
       "    </tr>\n",
       "    <tr>\n",
       "      <th>4</th>\n",
       "      <td>Schroder</td>\n",
       "      <td>Brown</td>\n",
       "      <td>cat</td>\n",
       "      <td>mix</td>\n",
       "      <td>orange</td>\n",
       "      <td>13.0</td>\n",
       "      <td>15</td>\n",
       "      <td>m</td>\n",
       "      <td>False</td>\n",
       "      <td>indoor</td>\n",
       "      <td>True</td>\n",
       "    </tr>\n",
       "  </tbody>\n",
       "</table>\n",
       "</div>"
      ],
      "text/plain": [
       "       name     owner type      breed       color   age  weight gender  \\\n",
       "0    Dexter  Johnsons  dog  shiba inu  red sesame   1.5      35      m   \n",
       "1    Alfred  Johnsons  cat        mix      tuxedo   4.0      12      m   \n",
       "4  Schroder     Brown  cat        mix      orange  13.0      15      m   \n",
       "\n",
       "   health issues indoor/outboor vaccinated  \n",
       "0          False           both       True  \n",
       "1           True         indoor       True  \n",
       "4          False         indoor       True  "
      ]
     },
     "execution_count": 29,
     "metadata": {},
     "output_type": "execute_result"
    }
   ],
   "source": [
    "vet_records[mask]"
   ]
  },
  {
   "cell_type": "code",
   "execution_count": 30,
   "metadata": {},
   "outputs": [
    {
     "data": {
      "text/html": [
       "<div>\n",
       "<style scoped>\n",
       "    .dataframe tbody tr th:only-of-type {\n",
       "        vertical-align: middle;\n",
       "    }\n",
       "\n",
       "    .dataframe tbody tr th {\n",
       "        vertical-align: top;\n",
       "    }\n",
       "\n",
       "    .dataframe thead th {\n",
       "        text-align: right;\n",
       "    }\n",
       "</style>\n",
       "<table border=\"1\" class=\"dataframe\">\n",
       "  <thead>\n",
       "    <tr style=\"text-align: right;\">\n",
       "      <th></th>\n",
       "      <th>name</th>\n",
       "      <th>owner</th>\n",
       "      <th>type</th>\n",
       "      <th>breed</th>\n",
       "      <th>color</th>\n",
       "      <th>age</th>\n",
       "      <th>weight</th>\n",
       "      <th>gender</th>\n",
       "      <th>health issues</th>\n",
       "      <th>indoor/outboor</th>\n",
       "      <th>vaccinated</th>\n",
       "    </tr>\n",
       "  </thead>\n",
       "  <tbody>\n",
       "    <tr>\n",
       "      <th>0</th>\n",
       "      <td>False</td>\n",
       "      <td>False</td>\n",
       "      <td>False</td>\n",
       "      <td>False</td>\n",
       "      <td>False</td>\n",
       "      <td>False</td>\n",
       "      <td>False</td>\n",
       "      <td>False</td>\n",
       "      <td>False</td>\n",
       "      <td>False</td>\n",
       "      <td>False</td>\n",
       "    </tr>\n",
       "    <tr>\n",
       "      <th>1</th>\n",
       "      <td>False</td>\n",
       "      <td>False</td>\n",
       "      <td>False</td>\n",
       "      <td>False</td>\n",
       "      <td>False</td>\n",
       "      <td>False</td>\n",
       "      <td>False</td>\n",
       "      <td>False</td>\n",
       "      <td>False</td>\n",
       "      <td>False</td>\n",
       "      <td>False</td>\n",
       "    </tr>\n",
       "    <tr>\n",
       "      <th>2</th>\n",
       "      <td>False</td>\n",
       "      <td>False</td>\n",
       "      <td>False</td>\n",
       "      <td>False</td>\n",
       "      <td>False</td>\n",
       "      <td>True</td>\n",
       "      <td>False</td>\n",
       "      <td>False</td>\n",
       "      <td>False</td>\n",
       "      <td>False</td>\n",
       "      <td>False</td>\n",
       "    </tr>\n",
       "    <tr>\n",
       "      <th>3</th>\n",
       "      <td>False</td>\n",
       "      <td>False</td>\n",
       "      <td>False</td>\n",
       "      <td>False</td>\n",
       "      <td>False</td>\n",
       "      <td>False</td>\n",
       "      <td>False</td>\n",
       "      <td>False</td>\n",
       "      <td>False</td>\n",
       "      <td>False</td>\n",
       "      <td>False</td>\n",
       "    </tr>\n",
       "    <tr>\n",
       "      <th>4</th>\n",
       "      <td>False</td>\n",
       "      <td>False</td>\n",
       "      <td>False</td>\n",
       "      <td>False</td>\n",
       "      <td>False</td>\n",
       "      <td>False</td>\n",
       "      <td>False</td>\n",
       "      <td>False</td>\n",
       "      <td>False</td>\n",
       "      <td>False</td>\n",
       "      <td>False</td>\n",
       "    </tr>\n",
       "    <tr>\n",
       "      <th>5</th>\n",
       "      <td>False</td>\n",
       "      <td>False</td>\n",
       "      <td>False</td>\n",
       "      <td>False</td>\n",
       "      <td>False</td>\n",
       "      <td>False</td>\n",
       "      <td>False</td>\n",
       "      <td>False</td>\n",
       "      <td>False</td>\n",
       "      <td>False</td>\n",
       "      <td>True</td>\n",
       "    </tr>\n",
       "  </tbody>\n",
       "</table>\n",
       "</div>"
      ],
      "text/plain": [
       "    name  owner   type  breed  color    age  weight  gender  health issues  \\\n",
       "0  False  False  False  False  False  False   False   False          False   \n",
       "1  False  False  False  False  False  False   False   False          False   \n",
       "2  False  False  False  False  False   True   False   False          False   \n",
       "3  False  False  False  False  False  False   False   False          False   \n",
       "4  False  False  False  False  False  False   False   False          False   \n",
       "5  False  False  False  False  False  False   False   False          False   \n",
       "\n",
       "   indoor/outboor  vaccinated  \n",
       "0           False       False  \n",
       "1           False       False  \n",
       "2           False       False  \n",
       "3           False       False  \n",
       "4           False       False  \n",
       "5           False        True  "
      ]
     },
     "execution_count": 30,
     "metadata": {},
     "output_type": "execute_result"
    }
   ],
   "source": [
    "vet_records.isna()"
   ]
  },
  {
   "cell_type": "code",
   "execution_count": 31,
   "metadata": {},
   "outputs": [
    {
     "data": {
      "text/html": [
       "<div>\n",
       "<style scoped>\n",
       "    .dataframe tbody tr th:only-of-type {\n",
       "        vertical-align: middle;\n",
       "    }\n",
       "\n",
       "    .dataframe tbody tr th {\n",
       "        vertical-align: top;\n",
       "    }\n",
       "\n",
       "    .dataframe thead th {\n",
       "        text-align: right;\n",
       "    }\n",
       "</style>\n",
       "<table border=\"1\" class=\"dataframe\">\n",
       "  <thead>\n",
       "    <tr style=\"text-align: right;\">\n",
       "      <th></th>\n",
       "      <th>name</th>\n",
       "      <th>owner</th>\n",
       "      <th>type</th>\n",
       "      <th>breed</th>\n",
       "      <th>color</th>\n",
       "      <th>age</th>\n",
       "      <th>weight</th>\n",
       "      <th>gender</th>\n",
       "      <th>health issues</th>\n",
       "      <th>indoor/outboor</th>\n",
       "      <th>vaccinated</th>\n",
       "    </tr>\n",
       "  </thead>\n",
       "  <tbody>\n",
       "    <tr>\n",
       "      <th>0</th>\n",
       "      <td>Dexter</td>\n",
       "      <td>Johnsons</td>\n",
       "      <td>dog</td>\n",
       "      <td>shiba inu</td>\n",
       "      <td>red sesame</td>\n",
       "      <td>1.5</td>\n",
       "      <td>35</td>\n",
       "      <td>m</td>\n",
       "      <td>False</td>\n",
       "      <td>both</td>\n",
       "      <td>True</td>\n",
       "    </tr>\n",
       "    <tr>\n",
       "      <th>1</th>\n",
       "      <td>Alfred</td>\n",
       "      <td>Johnsons</td>\n",
       "      <td>cat</td>\n",
       "      <td>mix</td>\n",
       "      <td>tuxedo</td>\n",
       "      <td>4.0</td>\n",
       "      <td>12</td>\n",
       "      <td>m</td>\n",
       "      <td>True</td>\n",
       "      <td>indoor</td>\n",
       "      <td>True</td>\n",
       "    </tr>\n",
       "    <tr>\n",
       "      <th>2</th>\n",
       "      <td>Petra</td>\n",
       "      <td>Smith</td>\n",
       "      <td>cat</td>\n",
       "      <td>ragdoll</td>\n",
       "      <td>calico</td>\n",
       "      <td>0.0</td>\n",
       "      <td>10</td>\n",
       "      <td>f</td>\n",
       "      <td>False</td>\n",
       "      <td>both</td>\n",
       "      <td>True</td>\n",
       "    </tr>\n",
       "    <tr>\n",
       "      <th>3</th>\n",
       "      <td>Ava</td>\n",
       "      <td>Smith</td>\n",
       "      <td>dog</td>\n",
       "      <td>mix</td>\n",
       "      <td>blk/wht</td>\n",
       "      <td>12.0</td>\n",
       "      <td>32</td>\n",
       "      <td>f</td>\n",
       "      <td>True</td>\n",
       "      <td>both</td>\n",
       "      <td>False</td>\n",
       "    </tr>\n",
       "    <tr>\n",
       "      <th>4</th>\n",
       "      <td>Schroder</td>\n",
       "      <td>Brown</td>\n",
       "      <td>cat</td>\n",
       "      <td>mix</td>\n",
       "      <td>orange</td>\n",
       "      <td>13.0</td>\n",
       "      <td>15</td>\n",
       "      <td>m</td>\n",
       "      <td>False</td>\n",
       "      <td>indoor</td>\n",
       "      <td>True</td>\n",
       "    </tr>\n",
       "    <tr>\n",
       "      <th>5</th>\n",
       "      <td>Blackbeard</td>\n",
       "      <td>Brown</td>\n",
       "      <td>bird</td>\n",
       "      <td>parrot</td>\n",
       "      <td>multi</td>\n",
       "      <td>5.0</td>\n",
       "      <td>3</td>\n",
       "      <td>f</td>\n",
       "      <td>False</td>\n",
       "      <td>indoor</td>\n",
       "      <td>0</td>\n",
       "    </tr>\n",
       "  </tbody>\n",
       "</table>\n",
       "</div>"
      ],
      "text/plain": [
       "         name     owner  type      breed       color   age  weight gender  \\\n",
       "0      Dexter  Johnsons   dog  shiba inu  red sesame   1.5      35      m   \n",
       "1      Alfred  Johnsons   cat        mix      tuxedo   4.0      12      m   \n",
       "2       Petra     Smith   cat    ragdoll      calico   0.0      10      f   \n",
       "3         Ava     Smith   dog        mix     blk/wht  12.0      32      f   \n",
       "4    Schroder     Brown   cat        mix      orange  13.0      15      m   \n",
       "5  Blackbeard     Brown  bird     parrot       multi   5.0       3      f   \n",
       "\n",
       "   health issues indoor/outboor vaccinated  \n",
       "0          False           both       True  \n",
       "1           True         indoor       True  \n",
       "2          False           both       True  \n",
       "3           True           both      False  \n",
       "4          False         indoor       True  \n",
       "5          False         indoor          0  "
      ]
     },
     "execution_count": 31,
     "metadata": {},
     "output_type": "execute_result"
    }
   ],
   "source": [
    "vet_records.fillna(0)"
   ]
  },
  {
   "cell_type": "code",
   "execution_count": 32,
   "metadata": {},
   "outputs": [],
   "source": [
    "values = {'age':6, \"vaccinated\":False}"
   ]
  },
  {
   "cell_type": "code",
   "execution_count": 33,
   "metadata": {},
   "outputs": [
    {
     "data": {
      "text/html": [
       "<div>\n",
       "<style scoped>\n",
       "    .dataframe tbody tr th:only-of-type {\n",
       "        vertical-align: middle;\n",
       "    }\n",
       "\n",
       "    .dataframe tbody tr th {\n",
       "        vertical-align: top;\n",
       "    }\n",
       "\n",
       "    .dataframe thead th {\n",
       "        text-align: right;\n",
       "    }\n",
       "</style>\n",
       "<table border=\"1\" class=\"dataframe\">\n",
       "  <thead>\n",
       "    <tr style=\"text-align: right;\">\n",
       "      <th></th>\n",
       "      <th>name</th>\n",
       "      <th>owner</th>\n",
       "      <th>type</th>\n",
       "      <th>breed</th>\n",
       "      <th>color</th>\n",
       "      <th>age</th>\n",
       "      <th>weight</th>\n",
       "      <th>gender</th>\n",
       "      <th>health issues</th>\n",
       "      <th>indoor/outboor</th>\n",
       "      <th>vaccinated</th>\n",
       "    </tr>\n",
       "  </thead>\n",
       "  <tbody>\n",
       "    <tr>\n",
       "      <th>0</th>\n",
       "      <td>Dexter</td>\n",
       "      <td>Johnsons</td>\n",
       "      <td>dog</td>\n",
       "      <td>shiba inu</td>\n",
       "      <td>red sesame</td>\n",
       "      <td>1.5</td>\n",
       "      <td>35</td>\n",
       "      <td>m</td>\n",
       "      <td>False</td>\n",
       "      <td>both</td>\n",
       "      <td>True</td>\n",
       "    </tr>\n",
       "    <tr>\n",
       "      <th>1</th>\n",
       "      <td>Alfred</td>\n",
       "      <td>Johnsons</td>\n",
       "      <td>cat</td>\n",
       "      <td>mix</td>\n",
       "      <td>tuxedo</td>\n",
       "      <td>4.0</td>\n",
       "      <td>12</td>\n",
       "      <td>m</td>\n",
       "      <td>True</td>\n",
       "      <td>indoor</td>\n",
       "      <td>True</td>\n",
       "    </tr>\n",
       "    <tr>\n",
       "      <th>2</th>\n",
       "      <td>Petra</td>\n",
       "      <td>Smith</td>\n",
       "      <td>cat</td>\n",
       "      <td>ragdoll</td>\n",
       "      <td>calico</td>\n",
       "      <td>6.0</td>\n",
       "      <td>10</td>\n",
       "      <td>f</td>\n",
       "      <td>False</td>\n",
       "      <td>both</td>\n",
       "      <td>True</td>\n",
       "    </tr>\n",
       "    <tr>\n",
       "      <th>3</th>\n",
       "      <td>Ava</td>\n",
       "      <td>Smith</td>\n",
       "      <td>dog</td>\n",
       "      <td>mix</td>\n",
       "      <td>blk/wht</td>\n",
       "      <td>12.0</td>\n",
       "      <td>32</td>\n",
       "      <td>f</td>\n",
       "      <td>True</td>\n",
       "      <td>both</td>\n",
       "      <td>False</td>\n",
       "    </tr>\n",
       "    <tr>\n",
       "      <th>4</th>\n",
       "      <td>Schroder</td>\n",
       "      <td>Brown</td>\n",
       "      <td>cat</td>\n",
       "      <td>mix</td>\n",
       "      <td>orange</td>\n",
       "      <td>13.0</td>\n",
       "      <td>15</td>\n",
       "      <td>m</td>\n",
       "      <td>False</td>\n",
       "      <td>indoor</td>\n",
       "      <td>True</td>\n",
       "    </tr>\n",
       "    <tr>\n",
       "      <th>5</th>\n",
       "      <td>Blackbeard</td>\n",
       "      <td>Brown</td>\n",
       "      <td>bird</td>\n",
       "      <td>parrot</td>\n",
       "      <td>multi</td>\n",
       "      <td>5.0</td>\n",
       "      <td>3</td>\n",
       "      <td>f</td>\n",
       "      <td>False</td>\n",
       "      <td>indoor</td>\n",
       "      <td>False</td>\n",
       "    </tr>\n",
       "  </tbody>\n",
       "</table>\n",
       "</div>"
      ],
      "text/plain": [
       "         name     owner  type      breed       color   age  weight gender  \\\n",
       "0      Dexter  Johnsons   dog  shiba inu  red sesame   1.5      35      m   \n",
       "1      Alfred  Johnsons   cat        mix      tuxedo   4.0      12      m   \n",
       "2       Petra     Smith   cat    ragdoll      calico   6.0      10      f   \n",
       "3         Ava     Smith   dog        mix     blk/wht  12.0      32      f   \n",
       "4    Schroder     Brown   cat        mix      orange  13.0      15      m   \n",
       "5  Blackbeard     Brown  bird     parrot       multi   5.0       3      f   \n",
       "\n",
       "   health issues indoor/outboor  vaccinated  \n",
       "0          False           both        True  \n",
       "1           True         indoor        True  \n",
       "2          False           both        True  \n",
       "3           True           both       False  \n",
       "4          False         indoor        True  \n",
       "5          False         indoor       False  "
      ]
     },
     "execution_count": 33,
     "metadata": {},
     "output_type": "execute_result"
    }
   ],
   "source": [
    "vet_records.fillna(value=values)"
   ]
  },
  {
   "cell_type": "code",
   "execution_count": null,
   "metadata": {},
   "outputs": [],
   "source": []
  }
 ],
 "metadata": {
  "kernelspec": {
   "display_name": "Python 3",
   "language": "python",
   "name": "python3"
  },
  "language_info": {
   "codemirror_mode": {
    "name": "ipython",
    "version": 3
   },
   "file_extension": ".py",
   "mimetype": "text/x-python",
   "name": "python",
   "nbconvert_exporter": "python",
   "pygments_lexer": "ipython3",
   "version": "3.8.5"
  }
 },
 "nbformat": 4,
 "nbformat_minor": 4
}
